{
 "cells": [
  {
   "cell_type": "code",
   "execution_count": 1,
   "metadata": {},
   "outputs": [],
   "source": [
    "import ipywidgets as widgets\n",
    "from IPython.display import display, clear_output, Image\n",
    "import cv2\n",
    "import numpy as np\n",
    "import matplotlib.pyplot as plt\n",
    "import io\n",
    "import base64"
   ]
  },
  {
   "cell_type": "code",
   "execution_count": 2,
   "metadata": {},
   "outputs": [],
   "source": [
    "# Load model and labels\n",
    "config_file = 'ssd_mobilenet_v3_large_coco_2020_01_14.pbtxt'\n",
    "frozen_model = 'frozen_inference_graph.pb'\n",
    "model = cv2.dnn_DetectionModel(frozen_model, config_file)\n",
    "model.setInputSize(320, 320)\n",
    "model.setInputScale(1.0 / 127.5) # 255/2=127.5\n",
    "model.setInputMean((127.5, 127.5, 127.5)) # mobilenet => [-1,1]\n",
    "model.setInputSwapRB(True) # auto convert BGR to RGB\n",
    "\n",
    "classLabels = []\n",
    "file_name = 'Labels.txt'\n",
    "with open(file_name, 'rt') as fpt:\n",
    "    classLabels = fpt.read().rstrip('\\n').split('\\n')\n",
    "    # print(classLabels)"
   ]
  },
  {
   "cell_type": "code",
   "execution_count": 13,
   "metadata": {},
   "outputs": [
    {
     "data": {
      "application/vnd.jupyter.widget-view+json": {
       "model_id": "b5e6311f07d74daeb59250c1b0e36620",
       "version_major": 2,
       "version_minor": 0
      },
      "text/plain": [
       "FileUpload(value=(), accept='.jpeg, .jpg, .png', description='Image')"
      ]
     },
     "metadata": {},
     "output_type": "display_data"
    },
    {
     "data": {
      "application/vnd.jupyter.widget-view+json": {
       "model_id": "02fd5c8c42474f388d3f21347de30019",
       "version_major": 2,
       "version_minor": 0
      },
      "text/plain": [
       "FileUpload(value=(), accept='.mp4', description='Video')"
      ]
     },
     "metadata": {},
     "output_type": "display_data"
    },
    {
     "data": {
      "application/vnd.jupyter.widget-view+json": {
       "model_id": "3b7d5785f0b3478db03fa5b7eb7f3d27",
       "version_major": 2,
       "version_minor": 0
      },
      "text/plain": [
       "Button(description='Webcam', style=ButtonStyle())"
      ]
     },
     "metadata": {},
     "output_type": "display_data"
    }
   ],
   "source": [
    "# Function to detect objects in an image\n",
    "def detect_objects_in_image(change):\n",
    "    clear_output()\n",
    "    display(image_button, video_button, webcam_button)\n",
    "    \n",
    "    if change['new']:\n",
    "        uploaded_file = change['owner']\n",
    "        image_name = list(uploaded_file.keys())[0]\n",
    "        image_data = uploaded_file[image_name]['content']\n",
    "        image = np.frombuffer(image_data, np.uint8)\n",
    "        image = cv2.imdecode(image, cv2.IMREAD_COLOR)\n",
    "        \n",
    "        # Perform object detection on the image\n",
    "        ClassIndex, confidence, bbox = model.detect(image, confThreshold=0.55)\n",
    "        \n",
    "        for ClassInd, conf, boxes in zip(ClassIndex.flatten(), confidence.flatten(), bbox):\n",
    "            if ClassInd <= 80:\n",
    "                cv2.rectangle(image, (boxes[0], boxes[1]), (boxes[0]+boxes[2], boxes[1]+boxes[3]), (255, 0, 0), 2)\n",
    "                cv2.putText(image, classLabels[ClassInd-1], (boxes[0], boxes[1]-10), cv2.FONT_HERSHEY_SIMPLEX, 1, (0, 255, 0), 2, cv2.LINE_AA)\n",
    "        \n",
    "        # Convert image to base64 encoding\n",
    "        _, buffer = cv2.imencode('.jpg', image)\n",
    "        img_str = base64.b64encode(buffer).decode('utf-8')\n",
    "        \n",
    "        # Display the name of the uploaded image\n",
    "        display(widgets.Label(value=f\"Uploaded Image: {image_name}\"))\n",
    "        \n",
    "        # Display annotated image\n",
    "        display(Image(data=buffer, format='jpg'))\n",
    "\n",
    "# Function to detect objects in a video\n",
    "def detect_objects_in_video(change):\n",
    "    # clear_output()\n",
    "    display(image_button, video_button, webcam_button)\n",
    "    \n",
    "    if change['new']:\n",
    "        uploaded_file = change['owner']\n",
    "        video_path = io.BytesIO(uploaded_file['content'])\n",
    "        \n",
    "        # Perform object detection on the video\n",
    "        cap = cv2.VideoCapture(video_path)\n",
    "        while cap.isOpened():\n",
    "            ret, frame = cap.read()\n",
    "            if not ret:\n",
    "                break\n",
    "            \n",
    "            ClassIndex, confidence, bbox = model.detect(frame, confThreshold=0.55)\n",
    "            \n",
    "            for ClassInd, conf, boxes in zip(ClassIndex.flatten(), confidence.flatten(), bbox):\n",
    "                if ClassInd <= 80:\n",
    "                    cv2.rectangle(frame, boxes, (255, 0, 0), 2)\n",
    "                    cv2.putText(frame, classLabels[ClassInd-1], (boxes[0]+10, boxes[1]+40), cv2.FONT_HERSHEY_PLAIN, 3, (0, 255, 0), 3)\n",
    "            \n",
    "            cv2.imshow('Object Detection in Video', frame)\n",
    "            if cv2.waitKey(1) & 0xFF == ord('q'):\n",
    "                break\n",
    "        \n",
    "        cap.release()\n",
    "        cv2.destroyAllWindows()\n",
    "\n",
    "# Function to detect objects in webcam\n",
    "def detect_objects_in_webcam(change):\n",
    "    # clear_output()\n",
    "    display(image_button, video_button, webcam_button)\n",
    "    \n",
    "    if change['new']:\n",
    "        cap = cv2.VideoCapture(0)\n",
    "        while cap.isOpened():\n",
    "            ret, frame = cap.read()\n",
    "            if not ret:\n",
    "                break\n",
    "            \n",
    "            ClassIndex, confidence, bbox = model.detect(frame, confThreshold=0.55)\n",
    "            \n",
    "            for ClassInd, conf, boxes in zip(ClassIndex.flatten(), confidence.flatten(), bbox):\n",
    "                if ClassInd <= 80:\n",
    "                    cv2.rectangle(frame, boxes, (255, 0, 0), 2)\n",
    "                    cv2.putText(frame, classLabels[ClassInd-1], (boxes[0]+10, boxes[1]+40), cv2.FONT_HERSHEY_PLAIN, 3, (0, 255, 0), 3)\n",
    "            \n",
    "            cv2.imshow('Object Detection in Webcam', frame)\n",
    "            if cv2.waitKey(1) & 0xFF == ord('q'):\n",
    "                break\n",
    "        \n",
    "        cap.release()\n",
    "        cv2.destroyAllWindows()\n",
    "\n",
    "# Create buttons for image, video, and webcam\n",
    "image_button = widgets.FileUpload(accept='.jpeg, .jpg, .png', description='Image',multiple=False)\n",
    "video_button = widgets.FileUpload(accept='.mp4', description='Video',multiple=False)\n",
    "webcam_button = widgets.Button(description='Webcam')\n",
    "\n",
    "# Attach event handlers to the buttons\n",
    "image_button.observe(detect_objects_in_image, names='value')\n",
    "video_button.observe(detect_objects_in_video, names='value')\n",
    "webcam_button.on_click(detect_objects_in_webcam)\n",
    "\n",
    "# Display the buttons\n",
    "display(image_button, video_button, webcam_button)"
   ]
  },
  {
   "cell_type": "code",
   "execution_count": null,
   "metadata": {},
   "outputs": [],
   "source": []
  },
  {
   "cell_type": "code",
   "execution_count": null,
   "metadata": {},
   "outputs": [],
   "source": []
  }
 ],
 "metadata": {
  "kernelspec": {
   "display_name": "Python 3 (ipykernel)",
   "language": "python",
   "name": "python3"
  },
  "language_info": {
   "codemirror_mode": {
    "name": "ipython",
    "version": 3
   },
   "file_extension": ".py",
   "mimetype": "text/x-python",
   "name": "python",
   "nbconvert_exporter": "python",
   "pygments_lexer": "ipython3",
   "version": "3.12.3"
  }
 },
 "nbformat": 4,
 "nbformat_minor": 4
}
