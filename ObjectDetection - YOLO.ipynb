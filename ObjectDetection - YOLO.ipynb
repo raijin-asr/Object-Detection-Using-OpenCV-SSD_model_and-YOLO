{
 "cells": [
  {
   "cell_type": "code",
   "execution_count": null,
   "id": "b9bc967e-400a-4662-9ad5-5e8e48195ce8",
   "metadata": {},
   "outputs": [],
   "source": [
    "from ultralytics import YOLO"
   ]
  },
  {
   "cell_type": "code",
   "execution_count": 2,
   "id": "66dad30a-ca67-40d4-a9ab-47975b3ffc4c",
   "metadata": {},
   "outputs": [],
   "source": [
    "\n",
    "# Load a pretrained YOLOv8n model\n",
    "model = YOLO('yolov8n.pt')"
   ]
  },
  {
   "cell_type": "code",
   "execution_count": null,
   "id": "6330474c",
   "metadata": {},
   "outputs": [],
   "source": [
    "result= model(\"lambo.mp4\", show= True, save=True)"
   ]
  },
  {
   "cell_type": "markdown",
   "id": "cbb26988-a6cb-414b-beeb-c06e2ee5a6e3",
   "metadata": {
    "jp-MarkdownHeadingCollapsed": true
   },
   "source": [
    "# for Image Detection "
   ]
  },
  {
   "cell_type": "markdown",
   "id": "34a20e3e-c16c-4f51-8f6e-966caa161002",
   "metadata": {},
   "source": [
    "# for Video Detection "
   ]
  }
 ],
 "metadata": {
  "kernelspec": {
   "display_name": "Python 3 (ipykernel)",
   "language": "python",
   "name": "python3"
  },
  "language_info": {
   "codemirror_mode": {
    "name": "ipython",
    "version": 3
   },
   "file_extension": ".py",
   "mimetype": "text/x-python",
   "name": "python",
   "nbconvert_exporter": "python",
   "pygments_lexer": "ipython3",
   "version": "3.12.3"
  }
 },
 "nbformat": 4,
 "nbformat_minor": 5
}
