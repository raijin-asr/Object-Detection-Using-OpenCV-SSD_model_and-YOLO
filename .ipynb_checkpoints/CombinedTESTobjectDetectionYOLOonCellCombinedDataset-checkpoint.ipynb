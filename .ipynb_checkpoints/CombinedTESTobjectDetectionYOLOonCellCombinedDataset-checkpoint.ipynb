{
 "cells": [
  {
   "cell_type": "markdown",
   "metadata": {},
   "source": [
    "# Training"
   ]
  },
  {
   "cell_type": "code",
   "execution_count": 1,
   "metadata": {},
   "outputs": [],
   "source": [
    "import matplotlib.pyplot as plt\n",
    "from ultralytics import YOLO\n",
    "import os  # Import the os module"
   ]
  },
  {
   "cell_type": "code",
   "execution_count": 2,
   "metadata": {
    "editable": true,
    "slideshow": {
     "slide_type": ""
    },
    "tags": []
   },
   "outputs": [
    {
     "name": "stdout",
     "output_type": "stream",
     "text": [
      "New https://pypi.org/project/ultralytics/8.2.12 available  Update with 'pip install -U ultralytics'\n",
      "Ultralytics YOLOv8.2.2  Python-3.12.3 torch-2.3.0+cpu CPU (12th Gen Intel Core(TM) i5-12450H)\n",
      "\u001b[34m\u001b[1mengine\\trainer: \u001b[0mtask=detect, mode=train, model=yolov8n.pt, data=D:\\PROJECTS\\Python\\Object Detection Project\\data\\Car_Bike_Person_Bicycle-Datasets\\data.yaml, epochs=1, time=None, patience=100, batch=16, imgsz=640, save=True, save_period=-1, cache=False, device=None, workers=8, project=D:\\PROJECTS\\Python\\Object Detection Project\\object_results, name=train2, exist_ok=False, pretrained=True, optimizer=auto, verbose=True, seed=0, deterministic=True, single_cls=False, rect=False, cos_lr=False, close_mosaic=10, resume=False, amp=True, fraction=1.0, profile=False, freeze=None, multi_scale=False, overlap_mask=True, mask_ratio=4, dropout=0.0, val=True, split=val, save_json=False, save_hybrid=False, conf=None, iou=0.7, max_det=300, half=False, dnn=False, plots=True, source=None, vid_stride=1, stream_buffer=False, visualize=False, augment=False, agnostic_nms=False, classes=None, retina_masks=False, embed=None, show=False, save_frames=False, save_txt=False, save_conf=False, save_crop=False, show_labels=True, show_conf=True, show_boxes=True, line_width=None, format=torchscript, keras=False, optimize=False, int8=False, dynamic=False, simplify=False, opset=None, workspace=4, nms=False, lr0=0.01, lrf=0.01, momentum=0.937, weight_decay=0.0005, warmup_epochs=3.0, warmup_momentum=0.8, warmup_bias_lr=0.1, box=7.5, cls=0.5, dfl=1.5, pose=12.0, kobj=1.0, label_smoothing=0.0, nbs=64, hsv_h=0.015, hsv_s=0.7, hsv_v=0.4, degrees=0.0, translate=0.1, scale=0.5, shear=0.0, perspective=0.0, flipud=0.0, fliplr=0.5, bgr=0.0, mosaic=1.0, mixup=0.0, copy_paste=0.0, auto_augment=randaugment, erasing=0.4, crop_fraction=1.0, cfg=None, tracker=botsort.yaml, save_dir=D:\\PROJECTS\\Python\\Object Detection Project\\object_results\\train2\n",
      "Overriding model.yaml nc=80 with nc=4\n",
      "\n",
      "                   from  n    params  module                                       arguments                     \n",
      "  0                  -1  1       464  ultralytics.nn.modules.conv.Conv             [3, 16, 3, 2]                 \n",
      "  1                  -1  1      4672  ultralytics.nn.modules.conv.Conv             [16, 32, 3, 2]                \n",
      "  2                  -1  1      7360  ultralytics.nn.modules.block.C2f             [32, 32, 1, True]             \n",
      "  3                  -1  1     18560  ultralytics.nn.modules.conv.Conv             [32, 64, 3, 2]                \n",
      "  4                  -1  2     49664  ultralytics.nn.modules.block.C2f             [64, 64, 2, True]             \n",
      "  5                  -1  1     73984  ultralytics.nn.modules.conv.Conv             [64, 128, 3, 2]               \n",
      "  6                  -1  2    197632  ultralytics.nn.modules.block.C2f             [128, 128, 2, True]           \n",
      "  7                  -1  1    295424  ultralytics.nn.modules.conv.Conv             [128, 256, 3, 2]              \n",
      "  8                  -1  1    460288  ultralytics.nn.modules.block.C2f             [256, 256, 1, True]           \n",
      "  9                  -1  1    164608  ultralytics.nn.modules.block.SPPF            [256, 256, 5]                 \n",
      " 10                  -1  1         0  torch.nn.modules.upsampling.Upsample         [None, 2, 'nearest']          \n",
      " 11             [-1, 6]  1         0  ultralytics.nn.modules.conv.Concat           [1]                           \n",
      " 12                  -1  1    148224  ultralytics.nn.modules.block.C2f             [384, 128, 1]                 \n",
      " 13                  -1  1         0  torch.nn.modules.upsampling.Upsample         [None, 2, 'nearest']          \n",
      " 14             [-1, 4]  1         0  ultralytics.nn.modules.conv.Concat           [1]                           \n",
      " 15                  -1  1     37248  ultralytics.nn.modules.block.C2f             [192, 64, 1]                  \n",
      " 16                  -1  1     36992  ultralytics.nn.modules.conv.Conv             [64, 64, 3, 2]                \n",
      " 17            [-1, 12]  1         0  ultralytics.nn.modules.conv.Concat           [1]                           \n",
      " 18                  -1  1    123648  ultralytics.nn.modules.block.C2f             [192, 128, 1]                 \n",
      " 19                  -1  1    147712  ultralytics.nn.modules.conv.Conv             [128, 128, 3, 2]              \n",
      " 20             [-1, 9]  1         0  ultralytics.nn.modules.conv.Concat           [1]                           \n",
      " 21                  -1  1    493056  ultralytics.nn.modules.block.C2f             [384, 256, 1]                 \n",
      " 22        [15, 18, 21]  1    752092  ultralytics.nn.modules.head.Detect           [4, [64, 128, 256]]           \n",
      "Model summary: 225 layers, 3011628 parameters, 3011612 gradients\n",
      "\n",
      "Transferred 319/355 items from pretrained weights\n",
      "Freezing layer 'model.22.dfl.conv.weight'\n"
     ]
    },
    {
     "name": "stderr",
     "output_type": "stream",
     "text": [
      "\u001b[34m\u001b[1mtrain: \u001b[0mScanning D:\\PROJECTS\\Python\\Object Detection Project\\data\\Car_Bike_Person_Bicycle-Data\u001b[0m\n",
      "\u001b[34m\u001b[1mval: \u001b[0mScanning D:\\PROJECTS\\Python\\Object Detection Project\\data\\Car_Bike_Person_Bicycle-Datase\u001b[0m"
     ]
    },
    {
     "name": "stdout",
     "output_type": "stream",
     "text": [
      "\u001b[34m\u001b[1mval: \u001b[0mWARNING  D:\\PROJECTS\\Python\\Object Detection Project\\data\\Car_Bike_Person_Bicycle-Datasets\\valid\\images\\20220818_13_42_18_761_000_3Du7psGgitewpjIJfxWYyXPV8f73_T_4000_1800_jpg.rf.465046bf27e1a4caacc4159bbf117f85.jpg: ignoring corrupt image/label: cannot reshape array of size 7 into shape (2)\n"
     ]
    },
    {
     "name": "stderr",
     "output_type": "stream",
     "text": [
      "\n"
     ]
    },
    {
     "name": "stdout",
     "output_type": "stream",
     "text": [
      "Plotting labels to D:\\PROJECTS\\Python\\Object Detection Project\\object_results\\train2\\labels.jpg... \n",
      "\u001b[34m\u001b[1moptimizer:\u001b[0m 'optimizer=auto' found, ignoring 'lr0=0.01' and 'momentum=0.937' and determining best 'optimizer', 'lr0' and 'momentum' automatically... \n",
      "\u001b[34m\u001b[1moptimizer:\u001b[0m AdamW(lr=0.00125, momentum=0.9) with parameter groups 57 weight(decay=0.0), 64 weight(decay=0.0005), 63 bias(decay=0.0)\n",
      "Image sizes 640 train, 640 val\n",
      "Using 0 dataloader workers\n",
      "Logging results to \u001b[1mD:\\PROJECTS\\Python\\Object Detection Project\\object_results\\train2\u001b[0m\n",
      "Starting training for 1 epochs...\n",
      "\n",
      "      Epoch    GPU_mem   box_loss   cls_loss   dfl_loss  Instances       Size\n"
     ]
    },
    {
     "name": "stderr",
     "output_type": "stream",
     "text": [
      "        1/1         0G      1.137      2.545       1.41         64        640: 100%|█████████\n",
      "                 Class     Images  Instances      Box(P          R      mAP50  mAP50-95): 100\n"
     ]
    },
    {
     "name": "stdout",
     "output_type": "stream",
     "text": [
      "                   all        181        295      0.731      0.167      0.286      0.152\n",
      "\n",
      "1 epochs completed in 0.081 hours.\n",
      "Optimizer stripped from D:\\PROJECTS\\Python\\Object Detection Project\\object_results\\train2\\weights\\last.pt, 6.2MB\n",
      "Optimizer stripped from D:\\PROJECTS\\Python\\Object Detection Project\\object_results\\train2\\weights\\best.pt, 6.2MB\n",
      "\n",
      "Validating D:\\PROJECTS\\Python\\Object Detection Project\\object_results\\train2\\weights\\best.pt...\n",
      "Ultralytics YOLOv8.2.2  Python-3.12.3 torch-2.3.0+cpu CPU (12th Gen Intel Core(TM) i5-12450H)\n",
      "Model summary (fused): 168 layers, 3006428 parameters, 0 gradients\n"
     ]
    },
    {
     "name": "stderr",
     "output_type": "stream",
     "text": [
      "                 Class     Images  Instances      Box(P          R      mAP50  mAP50-95): 100\n"
     ]
    },
    {
     "name": "stdout",
     "output_type": "stream",
     "text": [
      "                   all        181        295      0.725      0.165      0.284      0.152\n",
      "                  bike        181         81      0.368      0.425      0.382      0.187\n",
      "                   car        181        115      0.533      0.235      0.281      0.157\n",
      "                person        181         76          1          0      0.248      0.158\n",
      "               bicycle        181         23          1          0      0.225      0.105\n",
      "Speed: 1.8ms preprocess, 78.8ms inference, 0.0ms loss, 3.0ms postprocess per image\n",
      "Results saved to \u001b[1mD:\\PROJECTS\\Python\\Object Detection Project\\object_results\\train2\u001b[0m\n"
     ]
    }
   ],
   "source": [
    "# Get the directory where the code is executed\n",
    "current_dir = os.getcwd()\n",
    "\n",
    "# Load a model\n",
    "model = YOLO(\"yolov8n.pt\")  # Load the YOLOv8n model\n",
    "\n",
    "data_path= current_dir + r\"\\data\\Car_Bike_Person_Bicycle-Datasets\\data.yaml\"\n",
    "save_path= current_dir + r\"\\object_results\"\n",
    "\n",
    "# print(data_path)\n",
    "\n",
    "# Use the model\n",
    "train_result = model.train(data=data_path, epochs=1, project=save_path)  # Train the model and save results to the specified directory\n"
   ]
  },
  {
   "cell_type": "code",
   "execution_count": 3,
   "metadata": {},
   "outputs": [
    {
     "data": {
      "text/plain": [
       "<Figure size 1000x1500 with 1 Axes>"
      ]
     },
     "metadata": {},
     "output_type": "display_data"
    }
   ],
   "source": [
    "# trained_image_path = r\"D:/PROJECTS/Python/Object Detection Project/object_results/train/confusion_matrix.png\"\n",
    "trained_image_path = r\"D:/PROJECTS/Python/Object Detection Project/object_results/train/confusion_matrix.png\"\n",
    "\n",
    "# Load the image using Matplotlib\n",
    "trained_image = plt.imread(trained_image_path)\n",
    "\n",
    "# Display the image\n",
    "plt.figure(figsize=(10, 15))  # Set the figure size to increase width\n",
    "plt.imshow(trained_image)\n",
    "plt.axis('off')  # Hide axis\n",
    "plt.show()"
   ]
  },
  {
   "cell_type": "code",
   "execution_count": 4,
   "metadata": {},
   "outputs": [
    {
     "data": {
      "text/plain": [
       "<Figure size 1000x1500 with 1 Axes>"
      ]
     },
     "metadata": {},
     "output_type": "display_data"
    }
   ],
   "source": [
    "trained_image_path = r\"D:/PROJECTS/Python/Object Detection Project/object_results/train/results.png\"\n",
    "\n",
    "# Load the image using Matplotlib\n",
    "trained_image = plt.imread(trained_image_path)\n",
    "\n",
    "# Display the image\n",
    "plt.figure(figsize=(10, 15))  # Set the figure size to increase width\n",
    "plt.imshow(trained_image)\n",
    "plt.axis('off')  # Hide axis\n",
    "plt.show()"
   ]
  },
  {
   "cell_type": "code",
   "execution_count": 5,
   "metadata": {},
   "outputs": [
    {
     "data": {
      "text/plain": [
       "<Figure size 1000x1500 with 1 Axes>"
      ]
     },
     "metadata": {},
     "output_type": "display_data"
    }
   ],
   "source": [
    "\n",
    "trained_image_path = r\"D:/PROJECTS/Python/Object Detection Project/object_results/train/val_batch0_pred.jpg\"\n",
    "\n",
    "# Load the image using Matplotlib\n",
    "trained_image = plt.imread(trained_image_path)\n",
    "\n",
    "# Display the image\n",
    "plt.figure(figsize=(10, 15))  # Set the figure size to increase width\n",
    "plt.imshow(trained_image)\n",
    "plt.axis('off')  # Hide axis\n",
    "plt.show()"
   ]
  },
  {
   "cell_type": "markdown",
   "metadata": {},
   "source": [
    "# Validation"
   ]
  },
  {
   "cell_type": "code",
   "execution_count": 8,
   "metadata": {},
   "outputs": [
    {
     "name": "stdout",
     "output_type": "stream",
     "text": [
      "Ultralytics YOLOv8.2.2  Python-3.12.3 torch-2.3.0+cpu CPU (12th Gen Intel Core(TM) i5-12450H)\n",
      "Model summary (fused): 168 layers, 3006428 parameters, 0 gradients\n"
     ]
    },
    {
     "name": "stderr",
     "output_type": "stream",
     "text": [
      "\u001b[34m\u001b[1mval: \u001b[0mScanning D:\\PROJECTS\\Python\\Object Detection Project\\data\\Car_Bike_Person_Bicycle-Datase\u001b[0m"
     ]
    },
    {
     "name": "stdout",
     "output_type": "stream",
     "text": [
      "\u001b[34m\u001b[1mval: \u001b[0mWARNING  D:\\PROJECTS\\Python\\Object Detection Project\\data\\Car_Bike_Person_Bicycle-Datasets\\valid\\images\\20220818_13_42_18_761_000_3Du7psGgitewpjIJfxWYyXPV8f73_T_4000_1800_jpg.rf.465046bf27e1a4caacc4159bbf117f85.jpg: ignoring corrupt image/label: cannot reshape array of size 7 into shape (2)\n"
     ]
    },
    {
     "name": "stderr",
     "output_type": "stream",
     "text": [
      "\n",
      "                 Class     Images  Instances      Box(P          R      mAP50  mAP50-95): 100\n"
     ]
    },
    {
     "name": "stdout",
     "output_type": "stream",
     "text": [
      "                   all        181        295      0.725      0.165      0.284      0.152\n",
      "                  bike        181         81      0.368      0.425      0.382      0.187\n",
      "                   car        181        115      0.533      0.235      0.281      0.157\n",
      "                person        181         76          1          0      0.248      0.158\n",
      "               bicycle        181         23          1          0      0.225      0.105\n",
      "Speed: 1.1ms preprocess, 70.6ms inference, 0.0ms loss, 3.1ms postprocess per image\n",
      "Results saved to \u001b[1mD:\\PROJECTS\\Python\\Object Detection Project\\object_results\\val3\u001b[0m\n"
     ]
    }
   ],
   "source": [
    "# Get the directory where the code is executed\n",
    "current_dir = os.getcwd()\n",
    "\n",
    "model_path= current_dir + r\"\\object_results\\train2\\weights\\best.pt\"\n",
    "model = YOLO(model_path)\n",
    "\n",
    "data_path= current_dir + r\"\\data\\Car_Bike_Person_Bicycle-Datasets\\data.yaml\"\n",
    "save_path= current_dir + r\"\\object_results\"\n",
    "\n",
    "# Evaluate the model's performance on the validation set\n",
    "validation_results = model.val(data=data_path,project=save_path)"
   ]
  },
  {
   "cell_type": "code",
   "execution_count": 9,
   "metadata": {},
   "outputs": [
    {
     "data": {
      "text/plain": [
       "<Figure size 1000x1500 with 1 Axes>"
      ]
     },
     "metadata": {},
     "output_type": "display_data"
    }
   ],
   "source": [
    "#showing validated image\n",
    "validated_image_path = r\"D:/PROJECTS/Python/Object Detection Project/object_results/val/val_batch2_pred.jpg\"\n",
    "\n",
    "# Load the image using Matplotlib\n",
    "validated_image = plt.imread(validated_image_path)\n",
    "\n",
    "# Display the image\n",
    "plt.figure(figsize=(10, 15))  # Set the figure size to increase width\n",
    "plt.imshow(validated_image)\n",
    "plt.axis('off')  # Hide axis\n",
    "plt.show()"
   ]
  },
  {
   "cell_type": "markdown",
   "metadata": {
    "editable": true,
    "slideshow": {
     "slide_type": ""
    },
    "tags": []
   },
   "source": [
    "# Prediction or Testing"
   ]
  },
  {
   "cell_type": "code",
   "execution_count": 11,
   "metadata": {
    "editable": true,
    "slideshow": {
     "slide_type": ""
    },
    "tags": []
   },
   "outputs": [
    {
     "name": "stdout",
     "output_type": "stream",
     "text": [
      "D:\\PROJECTS\\Python\\Object Detection Project\\object_results\\train\\weights\\best.pt\n"
     ]
    }
   ],
   "source": [
    "#Prediction on test images\n",
    "\n",
    "# Load a model\n",
    "model_path= current_dir + r\"\\object_results\\train\\weights\\best.pt\"\n",
    "model = YOLO(model_path)\n",
    "print(model_path)\n",
    "\n",
    "source_path= current_dir + r\"/data/Car_Bike_Person_Bicycle-Datasets/test/images/Tank-300-Frontier-Edition-x-Buxus-Electric-Bike-main_jpg.rf.e673d1052b4283d612a194b6d3cb5c9f.jpg\"\n",
    "# \n",
    "predict_results = model.predict(source=source_path, save=True,imgsz=640, conf=0.25,project=save_path) \n"
   ]
  },
  {
   "cell_type": "code",
   "execution_count": 23,
   "metadata": {},
   "outputs": [
    {
     "data": {
      "text/plain": [
       "<Figure size 1000x1500 with 1 Axes>"
      ]
     },
     "metadata": {},
     "output_type": "display_data"
    }
   ],
   "source": [
    "#Predicted test images\n",
    "predicted_image_path = r\"D:/PROJECTS/Python/Object Detection Project/object_results/predict/Tank-300-Frontier-Edition-x-Buxus-Electric-Bike-main_jpg.rf.e673d1052b4283d612a194b6d3cb5c9f.jpg\"\n",
    "\n",
    "# Load the image using Matplotlib\n",
    "predicted_image = plt.imread(predicted_image_path)\n",
    "\n",
    "# Display the image\n",
    "plt.figure(figsize=(10, 15))  # Set the figure size to increase width\n",
    "plt.imshow(predicted_image)\n",
    "plt.axis('off')  # Hide axis\n",
    "plt.show()\n"
   ]
  },
  {
   "cell_type": "code",
   "execution_count": null,
   "metadata": {
    "editable": true,
    "slideshow": {
     "slide_type": ""
    },
    "tags": []
   },
   "outputs": [],
   "source": [
    "#Prediction on webcam or video\n",
    "from ultralytics import YOLO\n",
    "import cv2\n",
    "import os  # Import the os module\n",
    "\n",
    "# Get the directory where the code is executed\n",
    "current_dir = os.getcwd()\n",
    "\n",
    "# Load a model\n",
    "# model = YOLO(\"yolov8n.pt\")  # Load the YOLOv8n model\n",
    "\n",
    "model_path= current_dir + r\"\\object_results\\train4/weights/best.pt\"\n",
    "# model = YOLO(model_path)\n",
    "\n",
    "# Open webcam\n",
    "cap = cv2.VideoCapture(0)\n",
    "\n",
    "while True:\n",
    "    ret, frame = cap.read()  # Capture frame from webcam\n",
    "    \n",
    "    if not ret:\n",
    "        print(\"Error: Failed to capture frame\")\n",
    "        break\n",
    "\n",
    "    # Predict objects on the frame\n",
    "    predict_results = model.predict(frame, show=True)\n",
    "\n",
    "    # Check for 'q' key press to close camera\n",
    "    if cv2.waitKey(1) & 0xFF == ord('q'):\n",
    "        break\n",
    "\n",
    "# Release the webcam and close OpenCV windows\n",
    "cap.release()\n",
    "cv2.destroyAllWindows()()"
   ]
  }
 ],
 "metadata": {
  "kernelspec": {
   "display_name": "Python 3 (ipykernel)",
   "language": "python",
   "name": "python3"
  },
  "language_info": {
   "codemirror_mode": {
    "name": "ipython",
    "version": 3
   },
   "file_extension": ".py",
   "mimetype": "text/x-python",
   "name": "python",
   "nbconvert_exporter": "python",
   "pygments_lexer": "ipython3",
   "version": "3.12.3"
  }
 },
 "nbformat": 4,
 "nbformat_minor": 4
}
